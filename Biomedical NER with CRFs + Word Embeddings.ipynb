{
 "cells": [
  {
   "cell_type": "markdown",
   "metadata": {},
   "source": [
    "## NER using CRFs and Word Embeddings"
   ]
  },
  {
   "cell_type": "markdown",
   "metadata": {},
   "source": [
    "#### AnatEM anatomical entity mention corpus \n",
    "http://nactem.ac.uk/anatomytagger/"
   ]
  },
  {
   "cell_type": "code",
   "execution_count": 1,
   "metadata": {},
   "outputs": [],
   "source": [
    "import pandas as pd\n",
    "import numpy as np\n",
    "import itertools\n",
    "import gensim"
   ]
  },
  {
   "cell_type": "code",
   "execution_count": 2,
   "metadata": {},
   "outputs": [],
   "source": [
    "PATH_TRAIN = 'data/AnatEM-1.0.2/conll/train/'\n",
    "PATH_TEST = 'data/AnatEM-1.0.2/conll/test/'"
   ]
  },
  {
   "cell_type": "code",
   "execution_count": 3,
   "metadata": {},
   "outputs": [],
   "source": [
    "import os\n",
    "arr_train = os.listdir(PATH_TRAIN)\n",
    "arr_test = os.listdir(PATH_TEST)"
   ]
  },
  {
   "cell_type": "code",
   "execution_count": 4,
   "metadata": {},
   "outputs": [],
   "source": [
    "def process(arr, path):\n",
    "    arr = list(filter(lambda x: x.find('caption') == -1, arr))\n",
    "    arr = list(filter(lambda x: x.find('sec') == -1, arr))\n",
    "    texts = []\n",
    "    for el in arr:\n",
    "        f = open(path+el, \"rt\")\n",
    "        text = f.readlines()\n",
    "        text = [el.strip('\\n').split() for el in text]\n",
    "        texts.append(text)\n",
    "    out = list(itertools.chain.from_iterable(texts))\n",
    "    return out"
   ]
  },
  {
   "cell_type": "code",
   "execution_count": 5,
   "metadata": {},
   "outputs": [],
   "source": [
    "train_processed = process(arr_train, PATH_TRAIN)\n",
    "test_processed = process(arr_test, PATH_TEST )"
   ]
  },
  {
   "cell_type": "code",
   "execution_count": 6,
   "metadata": {},
   "outputs": [],
   "source": [
    "def prepare_for_w2v(arr):\n",
    "    out = []\n",
    "    tmp = []\n",
    "    for i in range(len(arr)):\n",
    "        if arr[i] != []:\n",
    "            tmp.append(arr[i][0])\n",
    "        else:\n",
    "            out.append(tmp)\n",
    "            tmp = []\n",
    "    return out"
   ]
  },
  {
   "cell_type": "code",
   "execution_count": 7,
   "metadata": {},
   "outputs": [],
   "source": [
    "w2v_sents_train = prepare_for_w2v(train_processed)\n",
    "w2v_sents_test = prepare_for_w2v(test_processed)\n",
    "w2v_all = w2v_sents_train + w2v_sents_test + [['UKN']]"
   ]
  },
  {
   "cell_type": "code",
   "execution_count": 8,
   "metadata": {},
   "outputs": [],
   "source": [
    "import pandas as pd\n",
    "def to_df(arr):\n",
    "    processed = []\n",
    "    c = 1\n",
    "    for i in range(len(arr)):\n",
    "        if arr[i] == []:\n",
    "            processed.append('EOS')\n",
    "            c += 1\n",
    "        else:\n",
    "            processed.append((arr[i], 'Sentence: ' + str(c)))\n",
    "    filtered = list(filter(lambda x: x != 'EOS', processed))\n",
    "    filtered = [(x[0][0], x[0][1], x[1]) for x in filtered]\n",
    "    df = pd.DataFrame(filtered, columns=['Word', 'Tag', 'Sentence#'])\n",
    "    return df"
   ]
  },
  {
   "cell_type": "code",
   "execution_count": 9,
   "metadata": {},
   "outputs": [],
   "source": [
    "df_train = to_df(train_processed)"
   ]
  },
  {
   "cell_type": "code",
   "execution_count": 10,
   "metadata": {},
   "outputs": [],
   "source": [
    "df_test = to_df(test_processed)"
   ]
  },
  {
   "cell_type": "code",
   "execution_count": 11,
   "metadata": {},
   "outputs": [
    {
     "data": {
      "text/html": [
       "<div>\n",
       "<style scoped>\n",
       "    .dataframe tbody tr th:only-of-type {\n",
       "        vertical-align: middle;\n",
       "    }\n",
       "\n",
       "    .dataframe tbody tr th {\n",
       "        vertical-align: top;\n",
       "    }\n",
       "\n",
       "    .dataframe thead th {\n",
       "        text-align: right;\n",
       "    }\n",
       "</style>\n",
       "<table border=\"1\" class=\"dataframe\">\n",
       "  <thead>\n",
       "    <tr style=\"text-align: right;\">\n",
       "      <th></th>\n",
       "      <th>Word</th>\n",
       "      <th>Tag</th>\n",
       "      <th>Sentence#</th>\n",
       "    </tr>\n",
       "  </thead>\n",
       "  <tbody>\n",
       "    <tr>\n",
       "      <th>count</th>\n",
       "      <td>76715</td>\n",
       "      <td>76715</td>\n",
       "      <td>76715</td>\n",
       "    </tr>\n",
       "    <tr>\n",
       "      <th>unique</th>\n",
       "      <td>8352</td>\n",
       "      <td>25</td>\n",
       "      <td>2869</td>\n",
       "    </tr>\n",
       "    <tr>\n",
       "      <th>top</th>\n",
       "      <td>.</td>\n",
       "      <td>O</td>\n",
       "      <td>Sentence: 1901</td>\n",
       "    </tr>\n",
       "    <tr>\n",
       "      <th>freq</th>\n",
       "      <td>3297</td>\n",
       "      <td>69696</td>\n",
       "      <td>145</td>\n",
       "    </tr>\n",
       "  </tbody>\n",
       "</table>\n",
       "</div>"
      ],
      "text/plain": [
       "         Word    Tag       Sentence#\n",
       "count   76715  76715           76715\n",
       "unique   8352     25            2869\n",
       "top         .      O  Sentence: 1901\n",
       "freq     3297  69696             145"
      ]
     },
     "execution_count": 11,
     "metadata": {},
     "output_type": "execute_result"
    }
   ],
   "source": [
    "df_test.describe()"
   ]
  },
  {
   "cell_type": "code",
   "execution_count": 12,
   "metadata": {},
   "outputs": [],
   "source": [
    "## word2vec\n",
    "from gensim.models import Word2Vec"
   ]
  },
  {
   "cell_type": "code",
   "execution_count": 13,
   "metadata": {},
   "outputs": [],
   "source": [
    "model = Word2Vec(w2v_all, min_count=1,size= 200,workers=3, window =5)"
   ]
  },
  {
   "cell_type": "code",
   "execution_count": 14,
   "metadata": {},
   "outputs": [],
   "source": [
    "train_w2v_tmp = list(zip(list(df_train['Word']), list(df_train['Tag']), list(df_train['Sentence#'])))\n",
    "test_w2v_tmp = list(zip(list(df_test['Word']), list(df_test['Tag']), list(df_test['Sentence#'])))"
   ]
  },
  {
   "cell_type": "code",
   "execution_count": 15,
   "metadata": {},
   "outputs": [],
   "source": [
    "def get_vecs(arr, model):\n",
    "    output = []\n",
    "    for el in arr:\n",
    "        if el[0] in model:\n",
    "            tmp = (el[0], el[1], el[2], model[el[0]])\n",
    "            output.append(tmp)\n",
    "        else:\n",
    "            print('False')\n",
    "            tmp = (el[0], el[1], el[2], model['UKN'])\n",
    "            output.append(tmp)\n",
    "    return output"
   ]
  },
  {
   "cell_type": "code",
   "execution_count": 16,
   "metadata": {},
   "outputs": [
    {
     "name": "stderr",
     "output_type": "stream",
     "text": [
      "/Library/Python/3.7/site-packages/ipykernel_launcher.py:4: DeprecationWarning: Call to deprecated `__contains__` (Method will be removed in 4.0.0, use self.wv.__contains__() instead).\n",
      "  after removing the cwd from sys.path.\n",
      "/Library/Python/3.7/site-packages/ipykernel_launcher.py:5: DeprecationWarning: Call to deprecated `__getitem__` (Method will be removed in 4.0.0, use self.wv.__getitem__() instead).\n",
      "  \"\"\"\n"
     ]
    }
   ],
   "source": [
    "train_vecs = get_vecs(train_w2v_tmp, model)\n",
    "test_vecs = get_vecs(test_w2v_tmp, model)"
   ]
  },
  {
   "cell_type": "code",
   "execution_count": 17,
   "metadata": {},
   "outputs": [],
   "source": [
    "df_train = pd.DataFrame(train_vecs, columns=['Word', 'Tag', 'Sentence#', 'Embedding'])"
   ]
  },
  {
   "cell_type": "code",
   "execution_count": 18,
   "metadata": {},
   "outputs": [
    {
     "data": {
      "text/html": [
       "<div>\n",
       "<style scoped>\n",
       "    .dataframe tbody tr th:only-of-type {\n",
       "        vertical-align: middle;\n",
       "    }\n",
       "\n",
       "    .dataframe tbody tr th {\n",
       "        vertical-align: top;\n",
       "    }\n",
       "\n",
       "    .dataframe thead th {\n",
       "        text-align: right;\n",
       "    }\n",
       "</style>\n",
       "<table border=\"1\" class=\"dataframe\">\n",
       "  <thead>\n",
       "    <tr style=\"text-align: right;\">\n",
       "      <th></th>\n",
       "      <th>Word</th>\n",
       "      <th>Tag</th>\n",
       "      <th>Sentence#</th>\n",
       "      <th>Embedding</th>\n",
       "    </tr>\n",
       "  </thead>\n",
       "  <tbody>\n",
       "    <tr>\n",
       "      <th>0</th>\n",
       "      <td>Obstructive</td>\n",
       "      <td>O</td>\n",
       "      <td>Sentence: 1</td>\n",
       "      <td>[0.009252742, -0.00500164, -0.00021493642, -0....</td>\n",
       "    </tr>\n",
       "    <tr>\n",
       "      <th>1</th>\n",
       "      <td>nephropathy</td>\n",
       "      <td>O</td>\n",
       "      <td>Sentence: 1</td>\n",
       "      <td>[0.073529035, -0.061625864, 0.010470589, -0.02...</td>\n",
       "    </tr>\n",
       "    <tr>\n",
       "      <th>2</th>\n",
       "      <td>:</td>\n",
       "      <td>O</td>\n",
       "      <td>Sentence: 1</td>\n",
       "      <td>[1.4891775, -0.77105534, 0.10571906, -0.219595...</td>\n",
       "    </tr>\n",
       "    <tr>\n",
       "      <th>3</th>\n",
       "      <td>lessons</td>\n",
       "      <td>O</td>\n",
       "      <td>Sentence: 1</td>\n",
       "      <td>[0.005032762, -0.003789113, 0.00022727302, -0....</td>\n",
       "    </tr>\n",
       "    <tr>\n",
       "      <th>4</th>\n",
       "      <td>from</td>\n",
       "      <td>O</td>\n",
       "      <td>Sentence: 1</td>\n",
       "      <td>[1.1600312, -1.0661284, 0.34372744, -0.5662684...</td>\n",
       "    </tr>\n",
       "  </tbody>\n",
       "</table>\n",
       "</div>"
      ],
      "text/plain": [
       "          Word Tag    Sentence#  \\\n",
       "0  Obstructive   O  Sentence: 1   \n",
       "1  nephropathy   O  Sentence: 1   \n",
       "2            :   O  Sentence: 1   \n",
       "3      lessons   O  Sentence: 1   \n",
       "4         from   O  Sentence: 1   \n",
       "\n",
       "                                           Embedding  \n",
       "0  [0.009252742, -0.00500164, -0.00021493642, -0....  \n",
       "1  [0.073529035, -0.061625864, 0.010470589, -0.02...  \n",
       "2  [1.4891775, -0.77105534, 0.10571906, -0.219595...  \n",
       "3  [0.005032762, -0.003789113, 0.00022727302, -0....  \n",
       "4  [1.1600312, -1.0661284, 0.34372744, -0.5662684...  "
      ]
     },
     "execution_count": 18,
     "metadata": {},
     "output_type": "execute_result"
    }
   ],
   "source": [
    "df_train.head()"
   ]
  },
  {
   "cell_type": "code",
   "execution_count": 19,
   "metadata": {},
   "outputs": [],
   "source": [
    "df_test = pd.DataFrame(test_vecs, columns=['Word', 'Tag', 'Sentence#', 'Embedding'])"
   ]
  },
  {
   "cell_type": "code",
   "execution_count": 20,
   "metadata": {},
   "outputs": [
    {
     "data": {
      "text/html": [
       "<div>\n",
       "<style scoped>\n",
       "    .dataframe tbody tr th:only-of-type {\n",
       "        vertical-align: middle;\n",
       "    }\n",
       "\n",
       "    .dataframe tbody tr th {\n",
       "        vertical-align: top;\n",
       "    }\n",
       "\n",
       "    .dataframe thead th {\n",
       "        text-align: right;\n",
       "    }\n",
       "</style>\n",
       "<table border=\"1\" class=\"dataframe\">\n",
       "  <thead>\n",
       "    <tr style=\"text-align: right;\">\n",
       "      <th></th>\n",
       "      <th>Word</th>\n",
       "      <th>Tag</th>\n",
       "      <th>Sentence#</th>\n",
       "      <th>Embedding</th>\n",
       "    </tr>\n",
       "  </thead>\n",
       "  <tbody>\n",
       "    <tr>\n",
       "      <th>0</th>\n",
       "      <td>Nuclear</td>\n",
       "      <td>B-Cellular_component</td>\n",
       "      <td>Sentence: 1</td>\n",
       "      <td>[0.00991862, -0.0093637565, 0.0032952111, -0.0...</td>\n",
       "    </tr>\n",
       "    <tr>\n",
       "      <th>1</th>\n",
       "      <td>translocation</td>\n",
       "      <td>O</td>\n",
       "      <td>Sentence: 1</td>\n",
       "      <td>[0.14319539, -0.13288176, 0.030554807, -0.0573...</td>\n",
       "    </tr>\n",
       "    <tr>\n",
       "      <th>2</th>\n",
       "      <td>of</td>\n",
       "      <td>O</td>\n",
       "      <td>Sentence: 1</td>\n",
       "      <td>[1.0930728, -1.03911, 0.26274154, -0.4945856, ...</td>\n",
       "    </tr>\n",
       "    <tr>\n",
       "      <th>3</th>\n",
       "      <td>a</td>\n",
       "      <td>O</td>\n",
       "      <td>Sentence: 1</td>\n",
       "      <td>[1.2311697, -0.96898663, -0.017469464, -0.3312...</td>\n",
       "    </tr>\n",
       "    <tr>\n",
       "      <th>4</th>\n",
       "      <td>clusterin</td>\n",
       "      <td>O</td>\n",
       "      <td>Sentence: 1</td>\n",
       "      <td>[0.09582306, -0.07466529, 0.0030629383, -0.026...</td>\n",
       "    </tr>\n",
       "  </tbody>\n",
       "</table>\n",
       "</div>"
      ],
      "text/plain": [
       "            Word                   Tag    Sentence#  \\\n",
       "0        Nuclear  B-Cellular_component  Sentence: 1   \n",
       "1  translocation                     O  Sentence: 1   \n",
       "2             of                     O  Sentence: 1   \n",
       "3              a                     O  Sentence: 1   \n",
       "4      clusterin                     O  Sentence: 1   \n",
       "\n",
       "                                           Embedding  \n",
       "0  [0.00991862, -0.0093637565, 0.0032952111, -0.0...  \n",
       "1  [0.14319539, -0.13288176, 0.030554807, -0.0573...  \n",
       "2  [1.0930728, -1.03911, 0.26274154, -0.4945856, ...  \n",
       "3  [1.2311697, -0.96898663, -0.017469464, -0.3312...  \n",
       "4  [0.09582306, -0.07466529, 0.0030629383, -0.026...  "
      ]
     },
     "execution_count": 20,
     "metadata": {},
     "output_type": "execute_result"
    }
   ],
   "source": [
    "df_test.head()"
   ]
  },
  {
   "cell_type": "code",
   "execution_count": 21,
   "metadata": {},
   "outputs": [],
   "source": [
    "words = list(set(df_train['Word'].values))"
   ]
  },
  {
   "cell_type": "code",
   "execution_count": 22,
   "metadata": {},
   "outputs": [],
   "source": [
    "class SentenceGetter(object):\n",
    "    \n",
    "    def __init__(self, data):\n",
    "        self.n_sent = 1\n",
    "        self.data = data\n",
    "        self.empty = False\n",
    "        agg_func = lambda s: [(w, t, e) for w, t, e in zip(s[\"Word\"].values.tolist(),\n",
    "                                                           s[\"Tag\"].values.tolist(), s['Embedding'])]\n",
    "        self.grouped = self.data.groupby(\"Sentence#\").apply(agg_func)\n",
    "        self.sentences = [s for s in self.grouped]\n",
    "    \n",
    "    def get_next(self):\n",
    "        try:\n",
    "            s = self.grouped[\"Sentence: {}\".format(self.n_sent)]\n",
    "            self.n_sent += 1\n",
    "            return s\n",
    "        except:\n",
    "            return None"
   ]
  },
  {
   "cell_type": "code",
   "execution_count": 23,
   "metadata": {},
   "outputs": [],
   "source": [
    "getter = SentenceGetter(df_train)"
   ]
  },
  {
   "cell_type": "code",
   "execution_count": 24,
   "metadata": {},
   "outputs": [],
   "source": [
    "sent = getter.get_next()"
   ]
  },
  {
   "cell_type": "code",
   "execution_count": 25,
   "metadata": {},
   "outputs": [],
   "source": [
    "sentences = getter.sentences"
   ]
  },
  {
   "cell_type": "code",
   "execution_count": 26,
   "metadata": {},
   "outputs": [],
   "source": [
    "def word2features(sent, i):\n",
    "    word = sent[i][0]\n",
    "    embedding = sent[i][2]\n",
    "    \n",
    "    features = {\n",
    "        'bias': 1.0,  \n",
    "        'word.lower()': word.lower(), \n",
    "        'word[-3:]': word[-3:],\n",
    "        'word[-2:]': word[-2:], \n",
    "        'word.isupper()': word.isupper(), \n",
    "        'word.istitle()': word.istitle(), \n",
    "        'word.isdigit()': word.isdigit(), \n",
    "\n",
    "    }\n",
    "    \n",
    "    for el in embedding:\n",
    "        if ('embedding' + str(i)) not in features:\n",
    "            features[('embedding' + str(i))] = el\n",
    "    \n",
    "    if i > 0:\n",
    "        word1 = sent[i-1][0]\n",
    "        postag1 = sent[i-1][1]\n",
    "        features.update({\n",
    "            '-1:word.lower()': word1.lower(),\n",
    "            '-1:word.istitle()': word1.istitle(),\n",
    "            '-1:word.isupper()': word1.isupper(),\n",
    "        })\n",
    "    else:\n",
    "        features['BOS'] = True\n",
    "\n",
    "    if i < len(sent)-1:\n",
    "        word1 = sent[i+1][0]\n",
    "        postag1 = sent[i+1][1]\n",
    "        features.update({\n",
    "            '+1:word.lower()': word1.lower(),\n",
    "            '+1:word.istitle()': word1.istitle(),\n",
    "            '+1:word.isupper()': word1.isupper(),\n",
    "        })\n",
    "    else:\n",
    "        features['EOS'] = True\n",
    "    \n",
    "    return features"
   ]
  },
  {
   "cell_type": "code",
   "execution_count": 27,
   "metadata": {},
   "outputs": [],
   "source": [
    "def sent2features(sent):\n",
    "    return [word2features(sent, i) for i in range(len(sent))]"
   ]
  },
  {
   "cell_type": "code",
   "execution_count": 28,
   "metadata": {},
   "outputs": [],
   "source": [
    "def sent2labels(sent):\n",
    "    return [label for token,label, embedding in sent]"
   ]
  },
  {
   "cell_type": "code",
   "execution_count": 29,
   "metadata": {},
   "outputs": [],
   "source": [
    "def sent2tokens(sent):\n",
    "    return [token for token,label, embedding in sent]"
   ]
  },
  {
   "cell_type": "code",
   "execution_count": 30,
   "metadata": {},
   "outputs": [],
   "source": [
    "X = [sent2features(s) for s in sentences]"
   ]
  },
  {
   "cell_type": "code",
   "execution_count": 31,
   "metadata": {},
   "outputs": [],
   "source": [
    "y = [sent2labels(s) for s in sentences]"
   ]
  },
  {
   "cell_type": "code",
   "execution_count": 32,
   "metadata": {},
   "outputs": [],
   "source": [
    "from sklearn_crfsuite import CRF\n",
    "\n",
    "crf = CRF(algorithm='lbfgs',\n",
    "          c1=0.1,\n",
    "          c2=0.1,\n",
    "          max_iterations=100,\n",
    "          all_possible_transitions=False)"
   ]
  },
  {
   "cell_type": "code",
   "execution_count": 33,
   "metadata": {},
   "outputs": [],
   "source": [
    "from sklearn.model_selection import cross_val_predict\n",
    "from sklearn_crfsuite.metrics import flat_classification_report"
   ]
  },
  {
   "cell_type": "code",
   "execution_count": 34,
   "metadata": {},
   "outputs": [
    {
     "name": "stderr",
     "output_type": "stream",
     "text": [
      "/Users/koontzj/Library/Python/3.7/lib/python/site-packages/sklearn/base.py:197: FutureWarning: From version 0.24, get_params will raise an AttributeError if a parameter cannot be retrieved as an instance attribute. Previously it would return None.\n",
      "  FutureWarning)\n"
     ]
    },
    {
     "name": "stdout",
     "output_type": "stream",
     "text": [
      "149.96216401700002\n"
     ]
    },
    {
     "name": "stderr",
     "output_type": "stream",
     "text": [
      "<string>:6: VisibleDeprecationWarning: Creating an ndarray from ragged nested sequences (which is a list-or-tuple of lists-or-tuples-or ndarrays with different lengths or shapes) is deprecated. If you meant to do this, you must specify 'dtype=object' when creating the ndarray\n"
     ]
    }
   ],
   "source": [
    "from timeit import default_timer as timer\n",
    "start = timer()\n",
    "pred = cross_val_predict(estimator=crf, X=X, y=y, cv=5)\n",
    "end = timer()\n",
    "print(end - start)"
   ]
  },
  {
   "cell_type": "code",
   "execution_count": 35,
   "metadata": {},
   "outputs": [
    {
     "name": "stderr",
     "output_type": "stream",
     "text": [
      "/Users/koontzj/Library/Python/3.7/lib/python/site-packages/sklearn/metrics/_classification.py:1272: UndefinedMetricWarning: Precision and F-score are ill-defined and being set to 0.0 in labels with no predicted samples. Use `zero_division` parameter to control this behavior.\n",
      "  _warn_prf(average, modifier, msg_start, len(result))\n"
     ]
    }
   ],
   "source": [
    "report = flat_classification_report(y_pred=pred, y_true=y)\n"
   ]
  },
  {
   "cell_type": "code",
   "execution_count": 36,
   "metadata": {},
   "outputs": [
    {
     "name": "stdout",
     "output_type": "stream",
     "text": [
      "                                   precision    recall  f1-score   support\n",
      "\n",
      "              B-Anatomical_system       0.90      0.47      0.62        60\n",
      "                         B-Cancer       0.84      0.78      0.81      1415\n",
      "                           B-Cell       0.86      0.74      0.80      2153\n",
      "             B-Cellular_component       0.83      0.50      0.62       309\n",
      "B-Developing_anatomical_structure       0.67      0.12      0.21        33\n",
      "   B-Immaterial_anatomical_entity       0.94      0.44      0.60       102\n",
      "         B-Multi-tissue_structure       0.76      0.49      0.59       751\n",
      "                          B-Organ       0.85      0.54      0.66       353\n",
      "           B-Organism_subdivision       0.52      0.13      0.21       113\n",
      "             B-Organism_substance       0.89      0.56      0.69       263\n",
      "         B-Pathological_formation       0.72      0.31      0.43       164\n",
      "                         B-Tissue       0.67      0.42      0.52       409\n",
      "              I-Anatomical_system       0.88      0.61      0.72        36\n",
      "                         I-Cancer       0.84      0.68      0.75      1055\n",
      "                           I-Cell       0.86      0.75      0.80      2311\n",
      "             I-Cellular_component       0.74      0.43      0.55       150\n",
      "I-Developing_anatomical_structure       0.00      0.00      0.00         8\n",
      "   I-Immaterial_anatomical_entity       0.00      0.00      0.00        20\n",
      "         I-Multi-tissue_structure       0.78      0.57      0.66       489\n",
      "                          I-Organ       0.49      0.28      0.36        68\n",
      "           I-Organism_subdivision       0.60      0.19      0.29        16\n",
      "             I-Organism_substance       0.86      0.38      0.52        64\n",
      "         I-Pathological_formation       0.50      0.18      0.27        93\n",
      "                         I-Tissue       0.69      0.34      0.45       259\n",
      "                                O       0.97      1.00      0.99    108253\n",
      "\n",
      "                         accuracy                           0.96    118947\n",
      "                        macro avg       0.71      0.44      0.52    118947\n",
      "                     weighted avg       0.96      0.96      0.96    118947\n",
      "\n"
     ]
    }
   ],
   "source": [
    "print(report)"
   ]
  },
  {
   "cell_type": "code",
   "execution_count": 37,
   "metadata": {},
   "outputs": [
    {
     "data": {
      "text/plain": [
       "CRF(algorithm='lbfgs', all_possible_states=None, all_possible_transitions=False,\n",
       "    averaging=None, c=None, c1=0.1, c2=0.1, calibration_candidates=None,\n",
       "    calibration_eta=None, calibration_max_trials=None, calibration_rate=None,\n",
       "    calibration_samples=None, delta=None, epsilon=None, error_sensitive=None,\n",
       "    gamma=None, keep_tempfiles=None, linesearch=None, max_iterations=100,\n",
       "    max_linesearch=None, min_freq=None, model_filename=None, num_memories=None,\n",
       "    pa_type=None, period=None, trainer_cls=None, variance=None, verbose=False)"
      ]
     },
     "execution_count": 37,
     "metadata": {},
     "output_type": "execute_result"
    }
   ],
   "source": [
    "crf.fit(X, y)"
   ]
  },
  {
   "cell_type": "markdown",
   "metadata": {},
   "source": [
    "## Test on some unseen data \n",
    "\n",
    "# TODO"
   ]
  }
 ],
 "metadata": {
  "kernelspec": {
   "display_name": "Python 3",
   "language": "python",
   "name": "python3"
  },
  "language_info": {
   "codemirror_mode": {
    "name": "ipython",
    "version": 3
   },
   "file_extension": ".py",
   "mimetype": "text/x-python",
   "name": "python",
   "nbconvert_exporter": "python",
   "pygments_lexer": "ipython3",
   "version": "3.7.3"
  }
 },
 "nbformat": 4,
 "nbformat_minor": 4
}
